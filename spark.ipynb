{
 "cells": [
  {
   "cell_type": "code",
   "execution_count": 1,
   "metadata": {},
   "outputs": [],
   "source": [
    "from pyspark.sql import SparkSession"
   ]
  },
  {
   "cell_type": "code",
   "execution_count": 2,
   "metadata": {},
   "outputs": [
    {
     "name": "stderr",
     "output_type": "stream",
     "text": [
      "24/04/10 19:06:23 WARN Utils: Your hostname, Rutvik.local resolves to a loopback address: 127.0.0.1; using 10.3.41.169 instead (on interface en0)\n",
      "24/04/10 19:06:23 WARN Utils: Set SPARK_LOCAL_IP if you need to bind to another address\n",
      "Setting default log level to \"WARN\".\n",
      "To adjust logging level use sc.setLogLevel(newLevel). For SparkR, use setLogLevel(newLevel).\n",
      "24/04/10 19:06:23 WARN NativeCodeLoader: Unable to load native-hadoop library for your platform... using builtin-java classes where applicable\n",
      "24/04/10 19:06:24 WARN Utils: Service 'SparkUI' could not bind on port 4040. Attempting port 4041.\n"
     ]
    },
    {
     "name": "stderr",
     "output_type": "stream",
     "text": [
      "24/04/10 19:06:40 WARN GarbageCollectionMetrics: To enable non-built-in garbage collector(s) List(G1 Concurrent GC), users should configure it(them) to spark.eventLog.gcMetrics.youngGenerationGarbageCollectors or spark.eventLog.gcMetrics.oldGenerationGarbageCollectors\n"
     ]
    }
   ],
   "source": [
    "spark = SparkSession.builder.appName(\"pyspark\").getOrCreate()"
   ]
  },
  {
   "cell_type": "code",
   "execution_count": 3,
   "metadata": {},
   "outputs": [],
   "source": [
    "health_camp_deets = spark.read.format(\"csv\").option(\"inferSchema\", \"true\").option(\"header\", \"true\").option(\"path\", \"./data/Health_Camp_Detail.csv\").load()"
   ]
  },
  {
   "cell_type": "code",
   "execution_count": 4,
   "metadata": {},
   "outputs": [
    {
     "name": "stdout",
     "output_type": "stream",
     "text": [
      "root\n",
      " |-- Health_Camp_ID: integer (nullable = true)\n",
      " |-- Camp_Start_Date: string (nullable = true)\n",
      " |-- Camp_End_Date: string (nullable = true)\n",
      " |-- Category1: string (nullable = true)\n",
      " |-- Category2: string (nullable = true)\n",
      " |-- Category3: integer (nullable = true)\n",
      "\n"
     ]
    }
   ],
   "source": [
    "health_camp_deets.printSchema()"
   ]
  },
  {
   "cell_type": "code",
   "execution_count": 19,
   "metadata": {},
   "outputs": [
    {
     "name": "stdout",
     "output_type": "stream",
     "text": [
      "+--------------+---------------+\n",
      "|Health_Camp_ID|Camp_Start_date|\n",
      "+--------------+---------------+\n",
      "|          6560|      16-Aug-03|\n",
      "|          6530|      16-Aug-03|\n",
      "|          6544|      03-Nov-03|\n",
      "|          6585|      22-Nov-03|\n",
      "|          6561|      30-Nov-03|\n",
      "|          6581|      07-Dec-03|\n",
      "|          6564|      17-Dec-03|\n",
      "|          6557|      04-Jan-04|\n",
      "|          6538|      09-Jan-04|\n",
      "|          6546|      09-Jan-04|\n",
      "+--------------+---------------+\n",
      "only showing top 10 rows\n",
      "\n"
     ]
    }
   ],
   "source": [
    "health_camp_deets.select(\"Health_Camp_ID\", \"Camp_Start_date\").show(10)"
   ]
  },
  {
   "cell_type": "code",
   "execution_count": 16,
   "metadata": {},
   "outputs": [],
   "source": [
    "health_camp_deets.createOrReplaceTempView(\"health_camp_deets\")"
   ]
  },
  {
   "cell_type": "code",
   "execution_count": 18,
   "metadata": {},
   "outputs": [
    {
     "name": "stdout",
     "output_type": "stream",
     "text": [
      "+--------------+---------------+-------------+---------+---------+---------+\n",
      "|Health_Camp_ID|Camp_Start_Date|Camp_End_Date|Category1|Category2|Category3|\n",
      "+--------------+---------------+-------------+---------+---------+---------+\n",
      "|          6560|      16-Aug-03|    20-Aug-03|    First|        B|        2|\n",
      "|          6530|      16-Aug-03|    28-Oct-03|    First|        C|        2|\n",
      "|          6544|      03-Nov-03|    15-Nov-03|    First|        F|        1|\n",
      "|          6585|      22-Nov-03|    05-Dec-03|    First|        E|        2|\n",
      "|          6561|      30-Nov-03|    18-Dec-03|    First|        E|        1|\n",
      "|          6581|      07-Dec-03|    13-Jun-04|    First|        F|        2|\n",
      "|          6564|      17-Dec-03|    11-Jun-04|    First|        C|        2|\n",
      "|          6557|      04-Jan-04|    09-Jan-04|    First|        C|        2|\n",
      "|          6538|      09-Jan-04|    04-Feb-05|    First|        F|        2|\n",
      "|          6546|      09-Jan-04|    17-Jan-04|    First|        E|        2|\n",
      "+--------------+---------------+-------------+---------+---------+---------+\n",
      "only showing top 10 rows\n",
      "\n"
     ]
    }
   ],
   "source": [
    "spark.sql(\"select * from health_camp_deets\").show(10)"
   ]
  },
  {
   "cell_type": "code",
   "execution_count": null,
   "metadata": {},
   "outputs": [],
   "source": []
  }
 ],
 "metadata": {
  "kernelspec": {
   "display_name": "Python 3",
   "language": "python",
   "name": "python3"
  },
  "language_info": {
   "codemirror_mode": {
    "name": "ipython",
    "version": 3
   },
   "file_extension": ".py",
   "mimetype": "text/x-python",
   "name": "python",
   "nbconvert_exporter": "python",
   "pygments_lexer": "ipython3",
   "version": "3.10.6"
  }
 },
 "nbformat": 4,
 "nbformat_minor": 2
}
